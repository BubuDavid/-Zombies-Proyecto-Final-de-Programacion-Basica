{
  "nbformat": 4,
  "nbformat_minor": 0,
  "metadata": {
    "colab": {
      "provenance": [],
      "authorship_tag": "ABX9TyMpOvyn6ijRC8K2J1/Hg5a1",
      "include_colab_link": true
    },
    "kernelspec": {
      "name": "python3",
      "display_name": "Python 3"
    },
    "language_info": {
      "name": "python"
    }
  },
  "cells": [
    {
      "cell_type": "markdown",
      "metadata": {
        "id": "view-in-github",
        "colab_type": "text"
      },
      "source": [
        "<a href=\"https://colab.research.google.com/github/BubuDavid/-Zombies-Proyecto-Final-de-Programacion-Basica/blob/master/M%C3%B3dulo%202%20-%20NumPy/2.3%20-%20Completo%20-%20Operaciones%20b%C3%A1sicas%20y%20UFuncs.ipynb\" target=\"_parent\"><img src=\"https://colab.research.google.com/assets/colab-badge.svg\" alt=\"Open In Colab\"/></a>"
      ]
    },
    {
      "cell_type": "markdown",
      "source": [
        "# Operaciones básicas y UFuncs\n",
        "\n",
        "Hasta ahora, hemos estado discutiendo algunos de los aspectos básicos de NumPy; en esta y las siguientes secciones, profundizaremos en las razones por las que NumPy es tan importante en el mundo de la ciencia de datos con Python. Principalmente, porque ofrece una interfaz fácil y flexible para realizar cálculos optimizados con arreglos de datos.\n",
        "\n",
        "Los cálculos en arreglos de NumPy pueden ser muy rápidos o muy lentos, y la clave para hacerlos rápidos es utilizar operaciones vectorizadas, generalmente implementadas a través de las funciones universales (ufuncs) de NumPy. Esta sección explora la necesidad de las ufuncs de NumPy, que pueden usarse para hacer cálculos repetidos sobre elementos de un arreglo de manera mucho más eficiente. También se presentan algunas de las ufuncs aritméticas más comunes y útiles disponibles en el paquete de NumPy."
      ],
      "metadata": {
        "id": "zmJ3Szyx-VKt"
      }
    },
    {
      "cell_type": "markdown",
      "source": [
        "# Comparativa Python loops vs. UFuncs de NumPy\n",
        "\n",
        "## Python for loop\n",
        "\n",
        "Vamos a ver un ejemplo, imagina que tenemos un arreglo de valores y necesitamos por alguna razón, calcular el recíproco (es decir, uno dividido entre cada uno de los elementos del arreglo), una manera muy natural de resolver el problema es el siguiente programa."
      ],
      "metadata": {
        "id": "V9HBXIjjRxZo"
      }
    },
    {
      "cell_type": "code",
      "source": [
        "import numpy as np"
      ],
      "metadata": {
        "id": "dTOdkBihPxay"
      },
      "execution_count": null,
      "outputs": []
    },
    {
      "cell_type": "code",
      "source": [
        "def compute_reciprocals(values):\n",
        "    reciprocals = np.zeros(values.shape)\n",
        "    for i in range(len(values)):\n",
        "        reciprocals[i] = 1.0 / values[i]\n",
        "\n",
        "    return reciprocals"
      ],
      "metadata": {
        "id": "0XcpX4vgPtqJ"
      },
      "execution_count": null,
      "outputs": []
    },
    {
      "cell_type": "code",
      "source": [
        "# Testeando la función\n",
        "og_values = np.random.randint(1, 10, size = 10)\n",
        "compute_reciprocals(og_values)"
      ],
      "metadata": {
        "id": "qGS8f02LQAcN"
      },
      "execution_count": null,
      "outputs": []
    },
    {
      "cell_type": "markdown",
      "source": [
        "Esta implementación puede parecer muy lógica y sencilla y cualquier persona que programara un poco podría llegar a ella, sin embargo, ¿qué pasa cuando agregamos muchos más datos?"
      ],
      "metadata": {
        "id": "fyJfppkkQLBh"
      }
    },
    {
      "cell_type": "code",
      "source": [
        "big_array = np.random.randint(1, 100, size = 1_000_000)\n",
        "%timeit compute_reciprocals(big_array) # Este comando mágico prueba nuestra función unas cuantas veces y nos regresa cuál fue el mejor tiempo."
      ],
      "metadata": {
        "id": "4YBlAketQYC9"
      },
      "execution_count": null,
      "outputs": []
    },
    {
      "cell_type": "markdown",
      "source": [
        "Este comando mágico prueba nuestra función unas cuantas veces y nos regresa cuál fue el mejor tiempo. ¡Tarda 2 segundos en calcular para 1 Millón de datos! Podrás pensar que eso no es mucho pero 2 segundos usando las computadoras de Google???? Eso es un montón, además 1 Millón de datos en realidad no es tan grande..."
      ],
      "metadata": {
        "id": "hqVU8JrQQtjp"
      }
    },
    {
      "cell_type": "markdown",
      "source": [
        "## UFunc de NumPy\n",
        "\n",
        "Ahora, hagamos el mismo ejercicio pero con una UFunc"
      ],
      "metadata": {
        "id": "D9ee0r_URHcT"
      }
    },
    {
      "cell_type": "code",
      "source": [
        "# Primero veamos que es lo mismo para saber que estamos haciendo las cosas bien\n",
        "og_values = np.random.randint(1, 10, size = 4)\n",
        "print(compute_reciprocals(og_values))\n",
        "print(1.0 / og_values)"
      ],
      "metadata": {
        "id": "SCt0v0xjQgcm"
      },
      "execution_count": null,
      "outputs": []
    },
    {
      "cell_type": "code",
      "source": [
        "# Ahora probemos esa misma lógica con el arreglo grandote\n",
        "%timeit (1.0 / big_array)"
      ],
      "metadata": {
        "id": "kK64y_lCRZCJ"
      },
      "execution_count": null,
      "outputs": []
    },
    {
      "cell_type": "markdown",
      "source": [
        "Las operaciones vectorizadas en NumPy se implementan a través de las *ufuncs*, cuyo principal propósito es ejecutar rápidamente operaciones repetidas en los valores de los arreglos de NumPy. Las *ufuncs* son extremadamente flexibles: anteriormente vimos con la operación de división, pero realmente pueden hacerlo con todas las operaciones veamos:"
      ],
      "metadata": {
        "id": "IqijXExARkI8"
      }
    },
    {
      "cell_type": "code",
      "source": [
        "og_values # Veamos que hay dentro de og_values"
      ],
      "metadata": {
        "id": "x33rA1rWR1hw"
      },
      "execution_count": null,
      "outputs": []
    },
    {
      "cell_type": "code",
      "source": [
        "# ¿Qué pasa si sumamos?\n",
        "og_values + 10"
      ],
      "metadata": {
        "id": "AGQwLj3LR3eS"
      },
      "execution_count": null,
      "outputs": []
    },
    {
      "cell_type": "code",
      "source": [
        "# Restamos\n",
        "og_values - 12"
      ],
      "metadata": {
        "id": "eaq9PKMpR7Gh"
      },
      "execution_count": null,
      "outputs": []
    },
    {
      "cell_type": "code",
      "source": [
        "# Sacamos el módulo\n",
        "og_values % 2"
      ],
      "metadata": {
        "id": "_7qqRXlMR9x2"
      },
      "execution_count": null,
      "outputs": []
    },
    {
      "cell_type": "markdown",
      "source": [
        "Pero hay más que eso, se pueden hacer operaciones con otros arreglos"
      ],
      "metadata": {
        "id": "59rRHKpSSA0e"
      }
    },
    {
      "cell_type": "code",
      "source": [
        "other_values = np.random.randint(1, 100, size = 4) # Definamos y veamos qué hay aquí\n",
        "other_values"
      ],
      "metadata": {
        "id": "YA4yJ8AsSNyj"
      },
      "execution_count": null,
      "outputs": []
    },
    {
      "cell_type": "code",
      "source": [
        "# Sumemos este entre el otro\n",
        "og_values + other_values"
      ],
      "metadata": {
        "id": "WCTJJIczSadA"
      },
      "execution_count": null,
      "outputs": []
    },
    {
      "cell_type": "markdown",
      "source": [
        "También funcionan con operaciones más complejas y arreglos de diferentes dimensiones, por ejemplo."
      ],
      "metadata": {
        "id": "54joIVU8SiJZ"
      }
    },
    {
      "cell_type": "code",
      "source": [
        "# Definir una matriz de 3x3 de números del 1 al 9\n",
        "x = np.arange(9).reshape((3, 3))\n",
        "\n",
        "# Elevar 2 a la cada uno de los números de esas matrices\n",
        "2 ** x"
      ],
      "metadata": {
        "id": "pzG37EE9StRv"
      },
      "execution_count": null,
      "outputs": []
    },
    {
      "cell_type": "markdown",
      "source": [
        "Los cálculos usando vectorización a través de *ufuncs* son casi siempre más eficientes que sus equivalentes implementados con bucles en Python, especialmente a medida que los arreglos crecen en tamaño. Cada vez que veas un bucle de este tipo en un script de Python, deberías considerar si puede ser reemplazado por una expresión vectorizada."
      ],
      "metadata": {
        "id": "6nuT02jPS4QU"
      }
    },
    {
      "cell_type": "markdown",
      "source": [
        "# Explorando Ufuncs\n",
        "\n",
        "Vamos a explorar todas las UFuncs básicas y otras no tan básicas, aunque ya lo hicimos un poco anteriormente."
      ],
      "metadata": {
        "id": "QH9uhfUlTA3U"
      }
    },
    {
      "cell_type": "code",
      "source": [
        "x = np.arange(4)\n",
        "print(\"x      =\", x)\n",
        "print(\"x + 5  =\", x + 5)\n",
        "print(\"x - 5  =\", x - 5)\n",
        "print(\"x * 2  =\", x * 2)\n",
        "print(\"x / 2  =\", x / 2)\n",
        "print(\"x // 2 =\", x // 2)  # División piso o floor division\n",
        "print(\"-x     =\", -x)\n",
        "print(\"x ** 2 =\", x ** 2)\n",
        "print(\"x % 2  =\", x % 2)"
      ],
      "metadata": {
        "id": "_0zEPu8jTTUq"
      },
      "execution_count": null,
      "outputs": []
    },
    {
      "cell_type": "code",
      "source": [
        "# Incluso podemos mezclarlas y prácticamente hacer matemáticas más complejas como:\n",
        "-(0.5 * x + 1) ** 2"
      ],
      "metadata": {
        "id": "9nXO060fTWKY"
      },
      "execution_count": null,
      "outputs": []
    },
    {
      "cell_type": "markdown",
      "source": [
        "## Ufuncs propias de numpy\n",
        "\n",
        "Pero no solo podemos usar las operaciones básicas, NumPy viene bien cargada de operaciones más intersantes y detalladas para casos más complejos, como:"
      ],
      "metadata": {
        "id": "xSBJM5rJTqKV"
      }
    },
    {
      "cell_type": "code",
      "source": [
        "# Operaciones trigonométricas\n",
        "print(\"x      = \", x)\n",
        "print(\"sin(x) = \", np.sin(x))\n",
        "print(\"cos(x) = \", np.cos(x))\n",
        "print(\"tan(x) = \", np.tan(x))\n",
        "\n",
        "# Exponenciales\n",
        "print(\"e^x   =\", np.exp(x))\n",
        "print(\"2^x   =\", np.exp2(x))\n",
        "print(\"3^x   =\", np.power(3, x))\n",
        "\n",
        "# Logarítmicas\n",
        "print(\"ln(x)    =\", np.log(x  + 1))\n",
        "print(\"log2(x)  =\", np.log2(x  + 1))\n",
        "print(\"log10(x) =\", np.log10(x + 1))"
      ],
      "metadata": {
        "id": "5QNqaC58UDsx"
      },
      "execution_count": null,
      "outputs": []
    },
    {
      "cell_type": "markdown",
      "source": [
        "## Funciones especializadas (*ufuncs*)  \n",
        "\n",
        "NumPy ofrece muchas más *ufuncs* especializadas, que incluyen funciones trigonométricas hiperbólicas, operaciones bit a bit, operadores de comparación, conversiones de radianes a grados, redondeos, restos y mucho más. Un vistazo a la documentación de NumPy revela una gran cantidad de funcionalidades interesantes.\n",
        "\n",
        "Otra excelente fuente de *ufuncs* más especializadas y específicas es el submódulo `scipy.special`. Si necesitas calcular alguna función matemática poco común en tus datos, es probable que esté implementada en `scipy.special`. Son tantas las funciones disponibles que es difícil listarlas todas, pero el siguiente ejemplo muestra algunas que podrían ser útiles en un contexto estadístico:"
      ],
      "metadata": {
        "id": "6bhg4b6qU7rH"
      }
    },
    {
      "cell_type": "code",
      "source": [
        "from scipy import special"
      ],
      "metadata": {
        "id": "Tg7w7diLVieL"
      },
      "execution_count": null,
      "outputs": []
    },
    {
      "cell_type": "code",
      "source": [
        "# Funciones Gamma (o generalizaciones de factoriales) y otras funciones raras\n",
        "x = [1, 5, 10]\n",
        "print(\"gamma(x)     =\", special.gamma(x))\n",
        "print(\"ln|gamma(x)| =\", special.gammaln(x))\n",
        "print(\"beta(x, 2)   =\", special.beta(x, 2))"
      ],
      "metadata": {
        "id": "uT3lhVYNVkd9"
      },
      "execution_count": null,
      "outputs": []
    }
  ]
}