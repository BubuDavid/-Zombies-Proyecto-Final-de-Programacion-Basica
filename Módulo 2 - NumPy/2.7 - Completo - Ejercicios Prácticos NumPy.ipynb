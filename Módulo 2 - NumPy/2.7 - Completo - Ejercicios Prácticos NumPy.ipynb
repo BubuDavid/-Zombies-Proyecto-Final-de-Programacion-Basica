{
  "nbformat": 4,
  "nbformat_minor": 0,
  "metadata": {
    "colab": {
      "provenance": [],
      "collapsed_sections": [
        "XSU7AHSjv1Z-",
        "Ab27MjmstY9a",
        "vWyS4oMvw3PN",
        "eUeTg278yr4I",
        "oXDRWeiDy647",
        "3BV_ctv00lO-",
        "jrZe9Yj4C8EC",
        "kZX77YnFMm70",
        "H9Eco4ReNj-Z",
        "J9GWbQXDOSm3"
      ],
      "authorship_tag": "ABX9TyNPgS7VVxMHxr51uOR101JE",
      "include_colab_link": true
    },
    "kernelspec": {
      "name": "python3",
      "display_name": "Python 3"
    },
    "language_info": {
      "name": "python"
    }
  },
  "cells": [
    {
      "cell_type": "markdown",
      "metadata": {
        "id": "view-in-github",
        "colab_type": "text"
      },
      "source": [
        "<a href=\"https://colab.research.google.com/github/BubuDavid/-Zombies-Proyecto-Final-de-Programacion-Basica/blob/master/M%C3%B3dulo%202%20-%20NumPy/2.7%20-%20Completo%20-%20Ejercicios%20Pr%C3%A1cticos%20NumPy.ipynb\" target=\"_parent\"><img src=\"https://colab.research.google.com/assets/colab-badge.svg\" alt=\"Open In Colab\"/></a>"
      ]
    },
    {
      "cell_type": "markdown",
      "source": [
        "# Hola!\n",
        "\n",
        "En este notebook tendrás que resolver algunos ejercicios, si no sabes cómo se resuelven puedes ver la versión \"completa\" del notebook, pero te recomiendo que si no conoces algo, mejor lo intentes e invesigues por tu cuenta para que desarrolles tu sentido de programación!"
      ],
      "metadata": {
        "id": "XSU7AHSjv1Z-"
      }
    },
    {
      "cell_type": "code",
      "source": [
        "# Importes necesarios\n",
        "import numpy as np"
      ],
      "metadata": {
        "id": "d0sQQ-BvvzOd"
      },
      "execution_count": null,
      "outputs": []
    },
    {
      "cell_type": "markdown",
      "source": [
        "# 1. Comparar tamaños de objetos.\n",
        "\n",
        "Escribe una función que cree una lista de 1,000,000 elementos con Python puro (lista) y otro que cree un array con las mismas características con NumPy. Muestra el tamaño en memoria de cada uno utilizando sys.getsizeof() y también mide el tiempo de creación como se vió en las clases."
      ],
      "metadata": {
        "id": "Ab27MjmstY9a"
      }
    },
    {
      "cell_type": "code",
      "source": [
        "# Python puro\n",
        "def create_python(size: int = 1_000_000):\n",
        "    return [x for x in range(1, size + 1)]\n",
        "\n",
        "# NumPy\n",
        "def create_numpy(size: int = 1_000_000):\n",
        "    return np.arange(1, size + 1)"
      ],
      "metadata": {
        "id": "Fi5scaTtvONC"
      },
      "execution_count": null,
      "outputs": []
    },
    {
      "cell_type": "code",
      "source": [
        "# Midiendo el tiempo\n",
        "%timeit create_python()\n",
        "%timeit create_numpy() # Más rápido el de numpy!"
      ],
      "metadata": {
        "id": "gLuN5wYRwIxQ"
      },
      "execution_count": null,
      "outputs": []
    },
    {
      "cell_type": "code",
      "source": [
        "# Midiendo el tamaño\n",
        "from sys import getsizeof\n",
        "\n",
        "print(f\"With Python: {getsizeof(create_python())}\")\n",
        "print(f\"With NumPy: {getsizeof(create_numpy())}\") # Es más pequeño el de numpy?!!"
      ],
      "metadata": {
        "id": "LDyMHAGRwRsB"
      },
      "execution_count": null,
      "outputs": []
    },
    {
      "cell_type": "markdown",
      "source": [
        "# 2. Comparar operaciones\n",
        "\n",
        "Ahora, usando la respuesta anterior, crea una lista de python y un arrelgo de numpy y a partir de estos originales, crea otra lista de python y otro arreglo que sean conformados por el doble de cada uno de los elementos dentro de la lista y el arreglo, por ejemplo, si los originales son:\n",
        "\n",
        "```python\n",
        "original_list = [1, 2, 3, 4, 5]\n",
        "original_array = np.array([1, 2, 3, 4, 5])\n",
        "```\n",
        "\n",
        "entonces los que tienes que generar deben de ser así:\n",
        "\n",
        "```python\n",
        "new_list = [2, 4, 6, 8, 10]\n",
        "new_array = np.array([2, 4, 6, 8, 10])\n",
        "```\n",
        "\n",
        "Para generar la lista usa \"list comprehension\" y para el arreglo usa una UFunction con broadcasting. Mide el tiempo que se tarda en generar estos nuevos arreglos ¿Qué método es más rápido? (para este ejercicio puedes usar la librería \"time\")."
      ],
      "metadata": {
        "id": "vWyS4oMvw3PN"
      }
    },
    {
      "cell_type": "code",
      "source": [
        "original_list = create_python()\n",
        "original_array = create_numpy()"
      ],
      "metadata": {
        "id": "shAjcQrsxXYg"
      },
      "execution_count": null,
      "outputs": []
    },
    {
      "cell_type": "code",
      "source": [
        "from time import time\n",
        "\n",
        "# Primero para Python\n",
        "start = time()\n",
        "\n",
        "new_list = [element * 2 for element in original_list]\n",
        "\n",
        "print(f\"El tiempo que tomó Python puro fue: {time() - start}\")"
      ],
      "metadata": {
        "id": "jIGFiDIyyGIm"
      },
      "execution_count": null,
      "outputs": []
    },
    {
      "cell_type": "code",
      "source": [
        "# Ahora con numpy\n",
        "start = time()\n",
        "\n",
        "new_array = original_array * 2\n",
        "\n",
        "print(f\"El tiempo que tomó NumPy fue: {time() - start}\")"
      ],
      "metadata": {
        "id": "yzMiNfVnyeOI"
      },
      "execution_count": null,
      "outputs": []
    },
    {
      "cell_type": "markdown",
      "source": [
        "# 3. Creación de arreglos básicos\n",
        "\n",
        "Crea un arreglo NumPy con los números del 1 al 20 usando np.arange() y conviértelo en una matriz de 4x5."
      ],
      "metadata": {
        "id": "eUeTg278yr4I"
      }
    },
    {
      "cell_type": "code",
      "source": [
        "x = np.arange(1, 21)\n",
        "x"
      ],
      "metadata": {
        "id": "HyiZhDIryxGy"
      },
      "execution_count": null,
      "outputs": []
    },
    {
      "cell_type": "code",
      "source": [
        "m = x.reshape((4,5))\n",
        "m"
      ],
      "metadata": {
        "id": "HOx6uoYdy3db"
      },
      "execution_count": null,
      "outputs": []
    },
    {
      "cell_type": "markdown",
      "source": [
        "# 4. Operaciones combinadas\n",
        "\n",
        "Dado un arreglo de números enteros aleatorios (20 elementos), usa una única línea de código para calcular el cuadrado de cada número, restar 5 y dividir el resultado por 2.\n"
      ],
      "metadata": {
        "id": "oXDRWeiDy647"
      }
    },
    {
      "cell_type": "code",
      "source": [
        "r = np.random.random(20)\n",
        "\n",
        "((r ** 2) - 5) / 2"
      ],
      "metadata": {
        "id": "ILqcyfSb0a61"
      },
      "execution_count": null,
      "outputs": []
    },
    {
      "cell_type": "markdown",
      "source": [
        "# 5. Reemplazo con bools\n",
        "\n",
        "From the array a, replace all values greater than 30 to 30 and less than 10 to 10.\n",
        "Del siguiente arreglo **a**: `a = np.random.uniform(1, 50, 20)` reemplaza todos los valores mayores que 30 con 30 y todos los valores menores que 10 con un 10, es decir, si tenemos el siguiente arreglo\n",
        "\n",
        "```python\n",
        "[1, 40, 17, 35, 28, -40]\n",
        "```\n",
        "\n",
        "Deberíamos al final tener:\n",
        "\n",
        "```python\n",
        "[10, 30, 17, 30, 28, 10]\n",
        "```"
      ],
      "metadata": {
        "id": "3BV_ctv00lO-"
      }
    },
    {
      "cell_type": "code",
      "source": [
        "a = np.random.uniform(1, 50, 20)\n",
        "after = a.copy()\n",
        "\n",
        "after[a > 30] = 30\n",
        "after[a < 10] = 10\n",
        "\n",
        "print(a) # Antes\n",
        "print()\n",
        "print(after) # Despues"
      ],
      "metadata": {
        "id": "sEszPPKj1JuD"
      },
      "execution_count": null,
      "outputs": []
    },
    {
      "cell_type": "markdown",
      "source": [
        "# 6. Agregaciones básicas\n",
        "\n",
        "Genera un arreglo con 15 valores aleatorios entre 10 y 100. Encuentra el valor mínimo, máximo y el promedio."
      ],
      "metadata": {
        "id": "jrZe9Yj4C8EC"
      }
    },
    {
      "cell_type": "code",
      "source": [
        "x = np.random.randint(1, 101, size = 15)\n",
        "\n",
        "print(f\"X = {x}\")\n",
        "print(f\"Min: {x.min()}\")\n",
        "print(f\"Max: {x.max()}\")\n",
        "print(f\"Mean: {x.mean()}\")"
      ],
      "metadata": {
        "id": "xkbiKwqoDdfG"
      },
      "execution_count": null,
      "outputs": []
    },
    {
      "cell_type": "markdown",
      "source": [
        "# 7. Agregación condicional\n",
        "\n",
        "Crea un arreglo de 100 valores aleatorios entre 1 y 1000. Encuentra la suma de todos los elementos que sean múltiplos de 3 o 5."
      ],
      "metadata": {
        "id": "kZX77YnFMm70"
      }
    },
    {
      "cell_type": "code",
      "source": [
        "x = np.random.randint(1, 1001, size = 1000) # obvio tienen que ser enteros porque el concepto de múltiplo no es tan claro en flotantes aleatorios.\n",
        "\n",
        "mask = ~(x % 3) & ~(x % 5)\n",
        "\n",
        "print(f\"x = {x[:5]}...\")\n",
        "print(f\"Suma de todos: {x.sum()}\")\n",
        "print(f\"Suma de todos los múltiplos del 3 y 5: {x[mask].sum()}\")"
      ],
      "metadata": {
        "id": "yJ6ij_nyMyV8"
      },
      "execution_count": null,
      "outputs": []
    },
    {
      "cell_type": "markdown",
      "source": [
        "# 8. Broadcasting en acción\n",
        "Dadas dos matrices A (3x1) y B (1x3) generadas con valores aleatorios entre 1 y 10, utiliza broadcasting para generar una nueva matriz C (3x3) donde cada elemento sea el producto de A y B."
      ],
      "metadata": {
        "id": "H9Eco4ReNj-Z"
      }
    },
    {
      "cell_type": "code",
      "source": [
        "m1 = np.random.randint(1, 10, (3,1))\n",
        "m2 = np.random.randint(1, 10, (1,3))\n",
        "\n",
        "print(f\"m1 = {m1}\")\n",
        "print(f\"m2 = {m2}\")\n",
        "print(f\"m1 * m2 = \\n{m1 * m2}\")"
      ],
      "metadata": {
        "id": "7H_DfL5TNtcr"
      },
      "execution_count": null,
      "outputs": []
    },
    {
      "cell_type": "markdown",
      "source": [
        "# 9. No tengo idea de cómo llamar a este\n",
        "\n",
        "Genera dos matrices aleatorias A y B de tamaño (4x4). Calcula la suma de sus productos elemento a elemento, pero solo considera los elementos en posiciones donde A sea mayor que B"
      ],
      "metadata": {
        "id": "J9GWbQXDOSm3"
      }
    },
    {
      "cell_type": "code",
      "source": [
        "import numpy as np\n",
        "\n",
        "A = np.random.randint(0, 100, (4, 4))\n",
        "B = np.random.randint(0, 100, (4, 4))\n",
        "\n",
        "product_matrix = A * B\n",
        "\n",
        "result_sum = product_matrix[A > B].sum()\n",
        "\n",
        "print(f\"A = \\n{A}\")\n",
        "print(f\"B = \\n{B}\")\n",
        "print(f\"Product = \\n{product_matrix}\")\n",
        "print(f\"Suma = {result_sum}\")"
      ],
      "metadata": {
        "id": "wVH5hnHHOWZw"
      },
      "execution_count": null,
      "outputs": []
    },
    {
      "cell_type": "markdown",
      "source": [
        "10. No me odies\n",
        "\n",
        "¡Investiga más! Puedes ver más problemas en [este link](https://www.kaggle.com/code/themlphdstudent/learn-numpy-numpy-50-exercises-and-solution) y puedes ver más conceptos que no vimos por completo en la documentación oficinal de [NumPy](https://numpy.org/doc/stable/)."
      ],
      "metadata": {
        "id": "5CfOlQS3O5Pj"
      }
    }
  ]
}